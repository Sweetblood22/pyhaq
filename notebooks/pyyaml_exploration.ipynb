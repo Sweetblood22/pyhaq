{
 "cells": [
  {
   "cell_type": "code",
   "execution_count": 2,
   "metadata": {},
   "outputs": [],
   "source": [
    "import yaml"
   ]
  },
  {
   "cell_type": "code",
   "execution_count": 23,
   "metadata": {},
   "outputs": [
    {
     "name": "stdout",
     "output_type": "stream",
     "text": [
      "Overwriting test_gad7.yaml\n"
     ]
    }
   ],
   "source": [
    "%%writefile test_gad7.yaml\n",
    "type: questionnaire\n",
    "title: GAD-7\n",
    "header: Over the last 2 weeks, how often have you been bothered by any of the following problems?\n",
    "answer-set:\n",
    "  labels:\n",
    "    - Not at all\n",
    "    - Several Days\n",
    "    - More than half the days\n",
    "    - Nearly every day\n",
    "  values:\n",
    "    - 0\n",
    "    - 1\n",
    "    - 2\n",
    "    - 3\n",
    "questions:\n",
    "  - Feeling nervous, anxious, or on edge\n",
    "  - Not being able to stop or control worrying\n",
    "  - Worrying too much about different things\n",
    "  - Trouble relaxing\n",
    "  - Being so restless that it is hard to sit still\n",
    "  - Becoming easily annoyed or irritable\n",
    "  - Feeling afraid, as if something awful might \n",
    "result:\n",
    "  header: \"Scores within the following ranges indicate the respective provisional diagnosis:\"\n",
    "  show: on-submit\n",
    "  style: threshold\n",
    "  values:\n",
    "    4: minimal anxiety\n",
    "    9: mild anxiety\n",
    "    14: moderate anxiety\n",
    "    inf: severe anxiety"
   ]
  },
  {
   "cell_type": "code",
   "execution_count": 24,
   "metadata": {},
   "outputs": [
    {
     "data": {
      "text/plain": [
       "{'type': 'questionnaire',\n",
       " 'title': 'GAD-7',\n",
       " 'header': 'Over the last 2 weeks, how often have you been bothered by any of the following problems?',\n",
       " 'answer-set': {'labels': ['Not at all',\n",
       "   'Several Days',\n",
       "   'More than half the days',\n",
       "   'Nearly every day'],\n",
       "  'values': [0, 1, 2, 3]},\n",
       " 'questions': ['Feeling nervous, anxious, or on edge',\n",
       "  'Not being able to stop or control worrying',\n",
       "  'Worrying too much about different things',\n",
       "  'Trouble relaxing',\n",
       "  'Being so restless that it is hard to sit still',\n",
       "  'Becoming easily annoyed or irritable',\n",
       "  'Feeling afraid, as if something awful might'],\n",
       " 'result': {'header': 'Scores within the following ranges indicate the respective provisional diagnosis:',\n",
       "  'show': 'on-submit',\n",
       "  'style': 'threshold',\n",
       "  'values': {4: 'minimal anxiety',\n",
       "   9: 'mild anxiety',\n",
       "   14: 'moderate anxiety',\n",
       "   'inf': 'severe anxiety'}}}"
      ]
     },
     "execution_count": 24,
     "metadata": {},
     "output_type": "execute_result"
    }
   ],
   "source": [
    "with open('test_gad7.yaml', 'r') as fin:\n",
    "    y = yaml.full_load(fin)\n",
    "\n",
    "y"
   ]
  },
  {
   "cell_type": "code",
   "execution_count": 14,
   "metadata": {},
   "outputs": [
    {
     "data": {
      "text/plain": [
       "['labels', 'values']"
      ]
     },
     "execution_count": 14,
     "metadata": {},
     "output_type": "execute_result"
    }
   ],
   "source": [
    "list(y['answer-set'].keys())"
   ]
  },
  {
   "cell_type": "code",
   "execution_count": 19,
   "metadata": {},
   "outputs": [
    {
     "name": "stdout",
     "output_type": "stream",
     "text": [
      "Writing test_quiz.yaml\n"
     ]
    }
   ],
   "source": [
    "%%writefile test_quiz.yaml\n",
    "type: quiz\n",
    "title: State Capitals\n",
    "questions:\n",
    "  - text: What is the capital of Texas?\n",
    "    choices: \n",
    "      wrong: [Dallas, Houston, San Antonio]\n",
    "      correct: Austin\n",
    "  - text: What is the capital of Kansas?\n",
    "    choices: \n",
    "      wrong: [Wichita, Salina, Kansas City]\n",
    "      correct: Topeka"
   ]
  },
  {
   "cell_type": "code",
   "execution_count": 20,
   "metadata": {},
   "outputs": [],
   "source": [
    "with open('test_quiz.yaml', 'r') as fin:\n",
    "    s = yaml.full_load(fin)"
   ]
  },
  {
   "cell_type": "code",
   "execution_count": 21,
   "metadata": {},
   "outputs": [
    {
     "data": {
      "text/plain": [
       "{'style': 'quiz',\n",
       " 'title': 'State Capitals',\n",
       " 'questions': [{'text': 'What is the capital of Texas?',\n",
       "   'choices': {'wrong': ['Dallas', 'Houston', 'San Antonio'],\n",
       "    'correct': 'Austin'}},\n",
       "  {'text': 'What is the capital of Kansas?',\n",
       "   'choices': {'wrong': ['Wichita', 'Salina', 'Kansas City'],\n",
       "    'correct': 'Topeka'}}]}"
      ]
     },
     "execution_count": 21,
     "metadata": {},
     "output_type": "execute_result"
    }
   ],
   "source": [
    "s"
   ]
  }
 ],
 "metadata": {
  "kernelspec": {
   "display_name": "Python 3",
   "language": "python",
   "name": "python3"
  },
  "language_info": {
   "codemirror_mode": {
    "name": "ipython",
    "version": 3
   },
   "file_extension": ".py",
   "mimetype": "text/x-python",
   "name": "python",
   "nbconvert_exporter": "python",
   "pygments_lexer": "ipython3",
   "version": "3.8.8"
  }
 },
 "nbformat": 4,
 "nbformat_minor": 2
}
