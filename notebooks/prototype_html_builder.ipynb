{
 "cells": [
  {
   "cell_type": "code",
   "execution_count": 1,
   "metadata": {},
   "outputs": [],
   "source": [
    "import yaml\n",
    "from random import shuffle"
   ]
  },
  {
   "cell_type": "code",
   "execution_count": 2,
   "metadata": {},
   "outputs": [],
   "source": [
    "class ClassList(list):\n",
    "    def __init__(self, arg):\n",
    "        if type(arg) is str:\n",
    "            arg = arg.split(' ')\n",
    "        super().__init__(arg)\n",
    "\n",
    "    def __repr__(self):\n",
    "        return ' '.join(map(str, self))\n",
    "    \n",
    "    def add(self, cls):\n",
    "        if cls not in self:\n",
    "            self.append(cls)\n",
    "\n",
    "    def remove(self, cls):\n",
    "        if cls in self:\n",
    "            super().remove(cls)"
   ]
  },
  {
   "cell_type": "markdown",
   "metadata": {},
   "source": []
  },
  {
   "cell_type": "markdown",
   "metadata": {},
   "source": [
    "```js\n",
    "function getFirstAncestorWithClass(element, className) {\n",
    "    while (element.parentElement) {\n",
    "        if (element.parentElement.classList.contains(className)) { break; }\n",
    "        element = element.parentElement;\n",
    "    }\n",
    "    return element.parentElement; // will return null if exhausting the tree yeilds no element with the requested class\n",
    "}\n",
    "\n",
    "function rollUpScore(element) {\n",
    "    let myScore = 0;\n",
    "    let selected = 0;\n",
    "    let answers = element.parentElement.children;\n",
    "    \n",
    "    for (let i = 0; i < answers.length; i++) {\n",
    "        if (answers[i].classList.contains('selected')) {\n",
    "            myScore += Number(answers[i].dataset.value);\n",
    "            selected += 1;\n",
    "        }\n",
    "    }\n",
    "    let questionContainer = getFirstAncestorWithClass(element, 'question-container');\n",
    "    let delta = myScore - Number(questionContainer.dataset.value)\n",
    "    questionContainer.dataset.value = myScore;\n",
    "    questionContainer.dataset.answered = selected > 0;\n",
    "\n",
    "    let quiz = getFirstAncestorWithClass(element, 'quiz');\n",
    "    let quizScore = quiz.getElementsByClassName('quiz-score')[0];\n",
    "\n",
    "    quizScore.dataset.value = Number(quizScore.dataset.value) + delta;\n",
    "    quizScore.innerText = quizScore.dataset.value;\n",
    "}\n",
    "function is_all_ws(nod) {\n",
    "    return !/[^\\t\\n\\r ]/.test(nod.textContent);\n",
    "}\n",
    "\n",
    "function is_ignorable(nod) {\n",
    "    return (\n",
    "        nod.nodeType === 8 || // A comment node\n",
    "        (nod.nodeType === 3 && is_all_ws(nod))\n",
    "    ); // not a text node, all ws\n",
    "}\n",
    "\n",
    "function any_selected(classes) {\n",
    "    let ans = false;\n",
    "\n",
    "    for (cls in classes) {\n",
    "        ans = ans || cls == 'selected';\n",
    "    }\n",
    "    return ans;\n",
    "}\n",
    "\n",
    "function selectAnswerExclusive(element) {\n",
    "    // Remove 'selected' class from any previously selected answers\n",
    "    let answers = element.parentElement.children; //\n",
    "    //console.log(answers);\n",
    "    \n",
    "    for (let i = 0; i < answers.length; i++) {\n",
    "        //console.log(answers[i].classList);\n",
    "        answers[i].classList.remove('selected');\n",
    "    }\n",
    "    \n",
    "    // Add 'selected' class to the clicked answer\n",
    "    element.classList.add('selected');\n",
    "    //console.log(element.parentElement);\n",
    "    rollUpScore(element)\n",
    "}\n",
    "\n",
    "function selectAnswerMultiple(element) {\n",
    "    // Remove 'selected' class from any previously selected answers\n",
    "    element.classList.toggle('selected');\n",
    "    rollUpScore(element)\n",
    "}\n",
    "\n",
    "function selectAnswerToggle(element) {\n",
    "    // Remove 'selected' class from any previously selected answers\n",
    "    element.classList.toggle('selected');\n",
    "    rollUpScore(element)\n",
    "}\n",
    "````"
   ]
  },
  {
   "cell_type": "code",
   "execution_count": null,
   "metadata": {},
   "outputs": [
    {
     "ename": "IndentationError",
     "evalue": "expected an indented block (<ipython-input-3-9fb9dcf66ed9>, line 33)",
     "output_type": "error",
     "traceback": [
      "\u001b[1;36m  File \u001b[1;32m\"<ipython-input-3-9fb9dcf66ed9>\"\u001b[1;36m, line \u001b[1;32m33\u001b[0m\n\u001b[1;33m    class Question(Element):\u001b[0m\n\u001b[1;37m                            ^\u001b[0m\n\u001b[1;31mIndentationError\u001b[0m\u001b[1;31m:\u001b[0m expected an indented block\n"
     ]
    }
   ],
   "source": [
    "class Element():\n",
    "    attrs = ['id', 'classes', 'data', 'callbacks']\n",
    "    element_type = 'div'\n",
    "    def __init__(self, content='', id='', classes=(), callbacks={}, data={}):\n",
    "        self.callbacks = callbacks\n",
    "        self.data = data\n",
    "        self.content = content\n",
    "        self.id = id\n",
    "        self.classes = ClassList(classes)\n",
    "\n",
    "    def repr_data(self):\n",
    "        return ' '.join((f'data-{k.replace(\"_\", \"-\")}=\"{v}\"' for k, v in self.data.items()))\n",
    "    def repr_callbacks(self):\n",
    "        return ' '.join((f'{k}=\"{v}\"' for k, v in self.callbacks.items()))\n",
    "\n",
    "    def __repr__(self):\n",
    "        attrstrs = [self.element_type]\n",
    "        for attr in self.attrs:\n",
    "            if getattr(self, attr):\n",
    "                if hasattr(self, f'repr_{attr}'):\n",
    "                    attrstrs.append(getattr(self, f'repr_{attr}')())\n",
    "                else:\n",
    "                    attrstrs.append(f'{attr if attr != \"classes\" else \"class\"}=\"{getattr(self, attr)}\"')\n",
    "            \n",
    "\n",
    "        attrstr = ' '.join(attrstrs) \n",
    "        br = '\\n'\n",
    "        return f'<{attrstr}>{self.content if type(self.content) is str else (br + br.join(map(lambda o: str(o).rstrip(), self.content)) + br)}</{self.element_type}>\\n'\n",
    "    \n",
    "class AnswerContainer(Element):\n",
    "    def __init__(self, choices):\n",
    "        super().__init__([_])\n",
    "\n",
    "class Question(Element):\n",
    "    def __init__(self, question, limit=None):\n",
    "        if limit:\n",
    "            data = {'limit': limit}\n",
    "        else:\n",
    "            data = {}\n",
    "        super().__init__(content=question, data=data)\n",
    "\n",
    "\n",
    "class Choice(Element):\n",
    "    def __init__(self, answer, value):\n",
    "        super().__init__(content=answer, data={'value': value})\n",
    "\n",
    "class MultipleChoice(Element):\n",
    "    def __init__(self, question, choices=(), correct=None, values=()):\n",
    "        assert choices and type(choices) is not str and hasattr(choices, '__iter__'), \"Argument `choices` must be an iterable of json serializable objects\"\n",
    "\n",
    "        if all((((type(c) is not str) and hasattr(c, '__iter__') and (len(c) == 2) and (type(c[1]) in {int, float})) for c in choices)):\n",
    "            pass\n",
    "        elif not values and correct:\n",
    "            choices = [(c, int(c == correct)) for c in choices]\n",
    "        elif values and not correct:\n",
    "            choices = list(zip(choices, values))\n",
    "\n",
    "        super().__init__(content=[question] + [Choice(*cv) for cv in choices], classes=\"question\")"
   ]
  },
  {
   "cell_type": "code",
   "execution_count": null,
   "metadata": {},
   "outputs": [],
   "source": []
  },
  {
   "cell_type": "code",
   "execution_count": 67,
   "metadata": {},
   "outputs": [],
   "source": [
    "answer_set = []\n",
    "correct = 'Topeka'\n",
    "for choice in ['Topeka', 'Salina', 'Whichita', 'Kansas City']:\n",
    "    answer_set.append(Element(content=choice,\n",
    "                              classes='answer single-choice',\n",
    "                              data={'value': int(choice == correct)},\n",
    "                              callbacks={'onclick': 'selectAnswerExclusive(this)'})\n",
    "                     )\n",
    "shuffle(answer_set)\n",
    "\n"
   ]
  },
  {
   "cell_type": "code",
   "execution_count": 68,
   "metadata": {},
   "outputs": [],
   "source": [
    "q = Element(classes='question-container', data={\"answered\": False, \"value\": 0},\n",
    "            content=[Element(classes='question', content='What is the capital of Kansas?'),\n",
    "                     Element(classes='answer-container', content=answer_set)\n",
    "            ])"
   ]
  },
  {
   "cell_type": "code",
   "execution_count": 69,
   "metadata": {},
   "outputs": [
    {
     "name": "stdout",
     "output_type": "stream",
     "text": [
      "<div class=\"question-container\" data-answered=\"False\" data-value=\"0\">\n",
      "<div class=\"question\">What is the capital of Kansas?</div>\n",
      "<div class=\"answer-container\">\n",
      "<div class=\"answer single-choice\" data-value=\"1\" onclick=\"selectAnswerExclusive(this)\">Topeka</div>\n",
      "<div class=\"answer single-choice\" data-value=\"0\" onclick=\"selectAnswerExclusive(this)\">Kansas City</div>\n",
      "<div class=\"answer single-choice\" data-value=\"0\" onclick=\"selectAnswerExclusive(this)\">Whichita</div>\n",
      "<div class=\"answer single-choice\" data-value=\"0\" onclick=\"selectAnswerExclusive(this)\">Salina</div>\n",
      "</div>\n",
      "</div>\n",
      "\n"
     ]
    }
   ],
   "source": [
    "print(q)"
   ]
  },
  {
   "cell_type": "code",
   "execution_count": null,
   "metadata": {},
   "outputs": [],
   "source": []
  }
 ],
 "metadata": {
  "kernelspec": {
   "display_name": "Python 3",
   "language": "python",
   "name": "python3"
  },
  "language_info": {
   "codemirror_mode": {
    "name": "ipython",
    "version": 3
   },
   "file_extension": ".py",
   "mimetype": "text/x-python",
   "name": "python",
   "nbconvert_exporter": "python",
   "pygments_lexer": "ipython3",
   "version": "3.8.8"
  }
 },
 "nbformat": 4,
 "nbformat_minor": 2
}
